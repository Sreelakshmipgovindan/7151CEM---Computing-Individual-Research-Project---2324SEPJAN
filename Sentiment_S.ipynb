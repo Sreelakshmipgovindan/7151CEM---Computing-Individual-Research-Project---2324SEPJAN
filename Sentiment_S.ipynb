{
 "cells": [
  {
   "cell_type": "code",
   "execution_count": null,
   "metadata": {
    "colab": {
     "base_uri": "https://localhost:8080/"
    },
    "id": "xbMPNRX6ZBNA",
    "outputId": "70307ea5-8626-4091-8ea8-0b7d158ff028"
   },
   "outputs": [],
   "source": [
    "# Get Data\n",
    "!pip install vaderSentiment\n",
    "\n",
    "import pandas as pd\n",
    "import numpy as np\n",
    "import re\n",
    "import matplotlib.pyplot as plt\n",
    "import nltk\n",
    "import seaborn as sns\n",
    "import matplotlib.dates as mdates\n",
    "from vaderSentiment.vaderSentiment import SentimentIntensityAnalyzer\n",
    "from nltk.stem.porter import *\n",
    "from wordcloud import WordCloud"
   ]
  },
  {
   "cell_type": "code",
   "execution_count": null,
   "metadata": {
    "colab": {
     "base_uri": "https://localhost:8080/",
     "height": 206
    },
    "id": "UZbH2bkqZIo1",
    "outputId": "2f9f0472-e0b2-4ddf-fbc8-1abfb05c3ceb"
   },
   "outputs": [],
   "source": [
    "data = pd.read_csv(\"Dataset.csv\", encoding='ISO-8859-2')\n",
    "data.head()"
   ]
  },
  {
   "cell_type": "code",
   "execution_count": null,
   "metadata": {
    "id": "4CrbTShvfUne"
   },
   "outputs": [],
   "source": [
    "# Remove pattern function\n",
    "def remove_pattern(input_txt, pattern):\n",
    "  r = re.findall(pattern, input_txt)\n",
    "  for i in r:\n",
    "    input_txt = re.sub(i, '', input_txt)\n",
    "  return input_txt"
   ]
  },
  {
   "cell_type": "code",
   "execution_count": null,
   "metadata": {
    "colab": {
     "base_uri": "https://localhost:8080/",
     "height": 478
    },
    "id": "Zj6FpiUYShan",
    "outputId": "7cdb8090-4e65-4f0a-c32c-b057b6ef39a8"
   },
   "outputs": [],
   "source": [
    "# Remove emoticons \n",
    "data['Message'] = data['Message'].str.replace(\"[^\\w()'+]\", \" \")\n",
    "data"
   ]
  },
  {
   "cell_type": "code",
   "execution_count": null,
   "metadata": {
    "colab": {
     "base_uri": "https://localhost:8080/",
     "height": 261
    },
    "id": "LUQn1dGXSzmj",
    "outputId": "6f22e6a8-fe7e-4bb6-fe97-0120d59565be"
   },
   "outputs": [],
   "source": [
    "# Remove links\n",
    "data['Message'] = data['Message'].str.replace(\"http[s]?://(?:[a-zA-Z]|[0-9]|[$-_@.&+]|[!*,]|(?:%[0-9a-fA-F][0-9a-fA-F]))+\", \" \")\n",
    "data.head()"
   ]
  },
  {
   "cell_type": "code",
   "execution_count": null,
   "metadata": {
    "colab": {
     "base_uri": "https://localhost:8080/",
     "height": 261
    },
    "id": "MBq2AXuVS6IT",
    "outputId": "ee2a4bba-6c92-4e8a-d6af-437beed3dd64"
   },
   "outputs": [],
   "source": [
    "# Remove special characters, numbers, punctuations (except exclamation mark)\n",
    "data['Message'] = data['Message'].str.replace(\"[^a-zA-Z#!]\", \" \")\n",
    "data.head()"
   ]
  },
  {
   "cell_type": "code",
   "execution_count": null,
   "metadata": {
    "colab": {
     "base_uri": "https://localhost:8080/",
     "height": 206
    },
    "id": "g1gCSlx5S-4N",
    "outputId": "15e0b8cd-5dbe-4e38-ba92-5724a3370db3"
   },
   "outputs": [],
   "source": [
    "# Remove short words\n",
    "data['Message'] = data['Message'].apply(lambda x: ' '.join([w for w in x.split() if len(w) > 3]))\n",
    "data.head()\n"
   ]
  },
  {
   "cell_type": "code",
   "execution_count": null,
   "metadata": {
    "colab": {
     "base_uri": "https://localhost:8080/"
    },
    "id": "-gQ24Mp0TDpj",
    "outputId": "b856e5b4-c85c-4d84-9405-173409884c9c"
   },
   "outputs": [],
   "source": [
    "\n",
    "# Tokenize Data\n",
    "tokenize_meesage = data['Message'].apply(lambda x: x.split())\n",
    "tokenize_meesage.head()"
   ]
  },
  {
   "cell_type": "code",
   "execution_count": null,
   "metadata": {
    "colab": {
     "base_uri": "https://localhost:8080/"
    },
    "id": "nH4JoIRyTLPe",
    "outputId": "4db534d3-0386-486f-da2f-fb064d075310"
   },
   "outputs": [],
   "source": [
    "# Stemming Data\n",
    "\n",
    "stemmer = PorterStemmer()\n",
    "\n",
    "tokenize_meesage = tokenize_meesage.apply(lambda x: [stemmer.stem(i) for i in x])\n",
    "tokenize_meesage.head()"
   ]
  },
  {
   "cell_type": "code",
   "execution_count": null,
   "metadata": {
    "colab": {
     "base_uri": "https://localhost:8080/",
     "height": 206
    },
    "id": "t_tPhT7wTSAL",
    "outputId": "f29277f7-65ec-4914-f01d-0de9f5954118"
   },
   "outputs": [],
   "source": [
    "for i in range(len(tokenize_meesage)):\n",
    "  tokenize_meesage[i] = ' '.join(tokenize_meesage[i])\n",
    "\n",
    "data['Message'] = tokenize_meesage\n",
    "data.head()"
   ]
  },
  {
   "cell_type": "code",
   "execution_count": null,
   "metadata": {
    "colab": {
     "base_uri": "https://localhost:8080/",
     "height": 521
    },
    "id": "r6C4NBPVTY2u",
    "outputId": "995e6db5-6f67-4464-abd5-296a0445d45a"
   },
   "outputs": [],
   "source": [
    "\n",
    "# WordCloud\n",
    "all_words = ' '.join([text for text in data['Message']])\n",
    "\n",
    "wordcloud = WordCloud(width=800, height=500, random_state=21, background_color='white',  max_font_size=110).generate(all_words)\n",
    "\n",
    "plt.figure(figsize=(10,7))\n",
    "plt.imshow(wordcloud, interpolation=\"bilinear\")\n",
    "plt.axis(\"off\")\n",
    "plt.show()\n"
   ]
  },
  {
   "cell_type": "code",
   "execution_count": null,
   "metadata": {
    "id": "n4J0UysKTeZp"
   },
   "outputs": [],
   "source": [
    "# Hashtags mentions\n",
    "\n",
    "def hashtag_extract(x):\n",
    "  hashtags = []\n",
    "\n",
    "  for i in x:\n",
    "    ht = re.findall(r\"#(\\w+)\", i)\n",
    "    hashtags.append(ht)\n",
    "\n",
    "  return hashtags\n",
    "\n",
    "# Extract hashtags\n",
    "\n",
    "hashtags = hashtag_extract(data['Message'])\n",
    "\n",
    "# Unnesting list\n",
    "\n",
    "hashtags = sum(hashtags, [])"
   ]
  },
  {
   "cell_type": "code",
   "execution_count": null,
   "metadata": {
    "colab": {
     "base_uri": "https://localhost:8080/",
     "height": 206
    },
    "id": "IOEvcXI2TfFm",
    "outputId": "fa15e66a-6604-40e4-a1a2-caa2e7631a2c"
   },
   "outputs": [],
   "source": [
    "# Calculate Polarity\n",
    "\n",
    "analyser = SentimentIntensityAnalyzer()\n",
    "\n",
    "scores = []\n",
    "for sentence in data['Message']:\n",
    "  score = analyser.polarity_scores(sentence)\n",
    "  scores.append(score)\n",
    "\n",
    "scores = pd.DataFrame(scores)\n",
    "\n",
    "data['Compound'] = scores['compound']\n",
    "data['Negative'] = scores['neg']\n",
    "data['Positive'] = scores['pos']\n",
    "data.head()"
   ]
  },
  {
   "cell_type": "code",
   "execution_count": null,
   "metadata": {
    "id": "g6YnqaXGTfIE"
   },
   "outputs": [],
   "source": [
    "# Calculate Mentions\n",
    "\n",
    "def word_extract(x):\n",
    "  words = []\n",
    "\n",
    "  for i in x:\n",
    "    ht = re.findall(r\"(\\w+)\", i)\n",
    "    words.append(ht)\n",
    "\n",
    "  return words\n",
    "\n",
    "# Extract words\n",
    "\n",
    "words = word_extract(data['Message'])\n",
    "\n",
    "# words\n",
    "\n",
    "# Unnesting list\n",
    "\n",
    "words = sum(words, [])"
   ]
  },
  {
   "cell_type": "code",
   "execution_count": null,
   "metadata": {
    "colab": {
     "base_uri": "https://localhost:8080/",
     "height": 487
    },
    "id": "Z4bzSQQATfKM",
    "outputId": "82ced569-06a3-4d58-e44e-42c41d9b4117"
   },
   "outputs": [],
   "source": [
    "# Frequency Distribution\n",
    "\n",
    "a = nltk.FreqDist(words)\n",
    "\n",
    "b = pd.DataFrame({'Word': list(a.keys()), 'Count': list(a.values())})\n",
    "length = len(b)\n",
    "\n",
    "# Top 10 Most Frequent Words\n",
    "b = b.nlargest(columns=\"Count\", n = 10)\n",
    "plt.figure(figsize=(10,5))\n",
    "axis = sns.barplot(data=b, x='Word', y='Count')\n",
    "axis.set(ylabel='Count')\n",
    "plt.title('Top 10 Most Frequent Words')\n",
    "plt.show()"
   ]
  },
  {
   "cell_type": "code",
   "execution_count": null,
   "metadata": {
    "colab": {
     "base_uri": "https://localhost:8080/",
     "height": 206
    },
    "id": "D6lx6ftdTfMi",
    "outputId": "d98bd201-fbc6-4c9c-9925-a3c14872ce23"
   },
   "outputs": [],
   "source": [
    "# Set type of polarity\n",
    "polarity = []\n",
    "\n",
    "for i in range(len(data)):\n",
    "  if (data['Compound'][i] < 0):\n",
    "    polarity.append(\"0\")\n",
    "  elif (data['Compound'][i] > 0):\n",
    "    polarity.append(\"1\")\n",
    "\n",
    "polarity = pd.DataFrame(polarity)\n",
    "data['Sentiment'] = polarity\n",
    "data.head()"
   ]
  },
  {
   "cell_type": "code",
   "execution_count": null,
   "metadata": {
    "id": "H5_7OlG0Uefx"
   },
   "outputs": [],
   "source": [
    "data.to_csv('message.csv', index= False)"
   ]
  },
  {
   "cell_type": "code",
   "execution_count": null,
   "metadata": {},
   "outputs": [],
   "source": []
  },
  {
   "cell_type": "code",
   "execution_count": null,
   "metadata": {},
   "outputs": [],
   "source": []
  },
  {
   "cell_type": "code",
   "execution_count": null,
   "metadata": {},
   "outputs": [],
   "source": []
  },
  {
   "cell_type": "code",
   "execution_count": null,
   "metadata": {},
   "outputs": [],
   "source": []
  },
  {
   "cell_type": "code",
   "execution_count": null,
   "metadata": {},
   "outputs": [],
   "source": []
  }
 ],
 "metadata": {
  "colab": {
   "provenance": [],
   "toc_visible": true
  },
  "kernelspec": {
   "display_name": "Python 3 (ipykernel)",
   "language": "python",
   "name": "python3"
  },
  "language_info": {
   "codemirror_mode": {
    "name": "ipython",
    "version": 3
   },
   "file_extension": ".py",
   "mimetype": "text/x-python",
   "name": "python",
   "nbconvert_exporter": "python",
   "pygments_lexer": "ipython3",
   "version": "3.11.5"
  }
 },
 "nbformat": 4,
 "nbformat_minor": 1
}
