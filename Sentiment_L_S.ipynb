{
 "cells": [
  {
   "cell_type": "code",
   "execution_count": null,
   "metadata": {
    "colab": {
     "base_uri": "https://localhost:8080/"
    },
    "id": "vVIjkU_sW-g5",
    "outputId": "0b1e6bee-3dc6-4144-bf49-f248a252e4ce"
   },
   "outputs": [],
   "source": [
    "!pip install Keras-Preprocessing\n",
    "!pip install keras\n",
    "!pip install tensorflow"
   ]
  },
  {
   "cell_type": "code",
   "execution_count": null,
   "metadata": {
    "_cell_guid": "b1076dfc-b9ad-4769-8c92-a6c4dae69d19",
    "_uuid": "8f2839f25d086af736a60e9eeb907d3b93b6e0e5",
    "execution": {
     "iopub.execute_input": "2023-09-30T14:02:09.209972Z",
     "iopub.status.busy": "2023-09-30T14:02:09.209334Z",
     "iopub.status.idle": "2023-09-30T14:02:17.758669Z",
     "shell.execute_reply": "2023-09-30T14:02:17.757730Z",
     "shell.execute_reply.started": "2023-09-30T14:02:09.209869Z"
    },
    "id": "aKDCbDKmWMRn"
   },
   "outputs": [],
   "source": [
    "import pandas as pd\n",
    "import numpy as np\n",
    "import seaborn as sns\n",
    "\n",
    "import numpy as np\n",
    "\n",
    "\n",
    "import nltk\n",
    "from nltk.corpus import stopwords\n",
    "from nltk.stem.snowball import SnowballStemmer\n",
    "snowBallStemmer = SnowballStemmer(\"english\")\n",
    "\n",
    "import gensim\n",
    "from gensim.models import Word2Vec\n",
    "\n",
    "\n",
    "from sklearn.feature_extraction.text import CountVectorizer\n",
    "from sklearn import metrics\n",
    "\n",
    "from sklearn.model_selection import train_test_split\n",
    "from sklearn.preprocessing import LabelEncoder\n",
    "from sklearn.metrics import confusion_matrix, classification_report, accuracy_score\n",
    "from sklearn.manifold import TSNE\n",
    "from sklearn.feature_extraction.text import TfidfVectorizer\n",
    "\n",
    "# Keras\n",
    "from keras.preprocessing.text import Tokenizer\n",
    "from keras_preprocessing.sequence import pad_sequences\n",
    "from keras.models import Sequential\n",
    "from keras.layers import Activation, Dense, Dropout, Embedding, Flatten, Conv1D, MaxPooling1D, LSTM\n",
    "from keras import utils\n",
    "from keras.callbacks import ReduceLROnPlateau, EarlyStopping\n",
    "\n",
    "import matplotlib.pyplot as plt\n",
    "\n",
    "%matplotlib inline\n",
    "pd.set_option('display.max_colwidth', 1000)\n",
    "\n",
    "\n",
    "import itertools\n",
    "import string\n",
    "import re\n",
    "import time\n",
    "import logging\n",
    "import pickle\n",
    "\n",
    "# Set log\n",
    "logging.basicConfig(format='%(asctime)s : %(levelname)s : %(message)s', level=logging.INFO)"
   ]
  },
  {
   "cell_type": "code",
   "execution_count": null,
   "metadata": {
    "colab": {
     "base_uri": "https://localhost:8080/",
     "height": 206
    },
    "execution": {
     "iopub.execute_input": "2023-09-30T14:02:17.761605Z",
     "iopub.status.busy": "2023-09-30T14:02:17.760873Z",
     "iopub.status.idle": "2023-09-30T14:02:17.964009Z",
     "shell.execute_reply": "2023-09-30T14:02:17.963046Z",
     "shell.execute_reply.started": "2023-09-30T14:02:17.761565Z"
    },
    "id": "28YhsQNsWMRw",
    "outputId": "872d3739-4f75-4f75-b2d9-b4bd17741836"
   },
   "outputs": [],
   "source": [
    "all_df=pd.read_csv('message.csv')\n",
    "all_df.head()"
   ]
  },
  {
   "cell_type": "code",
   "execution_count": null,
   "metadata": {
    "colab": {
     "base_uri": "https://localhost:8080/",
     "height": 206
    },
    "execution": {
     "iopub.execute_input": "2023-09-30T14:02:17.966083Z",
     "iopub.status.busy": "2023-09-30T14:02:17.965491Z",
     "iopub.status.idle": "2023-09-30T14:02:17.982921Z",
     "shell.execute_reply": "2023-09-30T14:02:17.981988Z",
     "shell.execute_reply.started": "2023-09-30T14:02:17.966047Z"
    },
    "id": "xWQPkb-iWMRy",
    "outputId": "53d6bdfc-7fec-4131-8580-1908d35db060"
   },
   "outputs": [],
   "source": [
    "all_df=all_df.drop(['Compound','Negative','Positive'],axis=1)\n",
    "all_df.head()"
   ]
  },
  {
   "cell_type": "code",
   "execution_count": null,
   "metadata": {
    "colab": {
     "base_uri": "https://localhost:8080/"
    },
    "execution": {
     "iopub.execute_input": "2023-09-30T14:02:17.986620Z",
     "iopub.status.busy": "2023-09-30T14:02:17.986080Z",
     "iopub.status.idle": "2023-09-30T14:02:18.011485Z",
     "shell.execute_reply": "2023-09-30T14:02:18.010438Z",
     "shell.execute_reply.started": "2023-09-30T14:02:17.986587Z"
    },
    "id": "yqoYyWtyWMRz",
    "outputId": "89245e3c-4a1a-4c78-cf8f-2e46f62e8bd1"
   },
   "outputs": [],
   "source": [
    "all_df.info()"
   ]
  },
  {
   "cell_type": "code",
   "execution_count": null,
   "metadata": {
    "execution": {
     "iopub.execute_input": "2023-09-30T14:02:18.013708Z",
     "iopub.status.busy": "2023-09-30T14:02:18.013078Z",
     "iopub.status.idle": "2023-09-30T14:02:18.023334Z",
     "shell.execute_reply": "2023-09-30T14:02:18.022424Z",
     "shell.execute_reply.started": "2023-09-30T14:02:18.013674Z"
    },
    "id": "ig-UhhUNWMR0"
   },
   "outputs": [],
   "source": [
    "all_df['message']=all_df['Message'].astype(str)"
   ]
  },
  {
   "cell_type": "code",
   "execution_count": null,
   "metadata": {
    "execution": {
     "iopub.execute_input": "2023-09-30T14:02:18.025251Z",
     "iopub.status.busy": "2023-09-30T14:02:18.024859Z",
     "iopub.status.idle": "2023-09-30T14:02:18.031799Z",
     "shell.execute_reply": "2023-09-30T14:02:18.030912Z",
     "shell.execute_reply.started": "2023-09-30T14:02:18.025212Z"
    },
    "id": "rFOr7F3-WMR1"
   },
   "outputs": [],
   "source": [
    "#preprocessing the data\n",
    "#Remove punctuations\n",
    "#Tokenization - Converting a sentence into list of words\n",
    "#Remove stopwords\n",
    "#Lammetization/stemming "
   ]
  },
  {
   "cell_type": "code",
   "execution_count": null,
   "metadata": {
    "colab": {
     "base_uri": "https://localhost:8080/"
    },
    "id": "gB7WsFoWX5dY",
    "outputId": "fd74ac20-56c7-4148-dfb1-a53064726fc8"
   },
   "outputs": [],
   "source": [
    "import nltk\n",
    "nltk.download('stopwords')\n",
    "nltk.download('wordnet')"
   ]
  },
  {
   "cell_type": "code",
   "execution_count": null,
   "metadata": {
    "colab": {
     "base_uri": "https://localhost:8080/",
     "height": 206
    },
    "execution": {
     "iopub.execute_input": "2023-09-30T14:02:18.033689Z",
     "iopub.status.busy": "2023-09-30T14:02:18.033065Z",
     "iopub.status.idle": "2023-09-30T14:02:43.992752Z",
     "shell.execute_reply": "2023-09-30T14:02:43.991821Z",
     "shell.execute_reply.started": "2023-09-30T14:02:18.033646Z"
    },
    "id": "7ckLQp-eWMR1",
    "outputId": "07e2cca5-cdb6-44f5-f05b-a864abdda4a7"
   },
   "outputs": [],
   "source": [
    "import nltk\n",
    "from nltk.tokenize import RegexpTokenizer\n",
    "from nltk.stem import WordNetLemmatizer,PorterStemmer\n",
    "from nltk.corpus import stopwords\n",
    "import re\n",
    "lemmatizer = WordNetLemmatizer()\n",
    "stemmer = PorterStemmer()\n",
    "\n",
    "def preprocess(sentence):\n",
    "    sentence=str(sentence)\n",
    "    sentence = sentence.lower()\n",
    "    sentence=sentence.replace('{html}',\"\")\n",
    "    cleanr = re.compile('<.*?>')\n",
    "    cleantext = re.sub(cleanr, '', sentence)\n",
    "    rem_url=re.sub(r'http\\S+', '',cleantext)\n",
    "    rem_num = re.sub('[0-9]+', '', rem_url)\n",
    "    tokenizer = RegexpTokenizer(r'\\w+')\n",
    "    tokens = tokenizer.tokenize(rem_num)\n",
    "    stopword = stopwords.words('english')\n",
    "    message_stopword=['today','day','still','want','going','got','now','quot','know','think','amp','really','twitter','need','see','im','hi','hey','am','rn','rt','tomorrow','day','night','pm']\n",
    "    stopword+=message_stopword\n",
    "    filtered_words = [w for w in tokens if len(w) > 2 if not w in stopword]\n",
    "    stem_words=[stemmer.stem(w) for w in filtered_words]\n",
    "    lemma_words=[lemmatizer.lemmatize(w) for w in stem_words]\n",
    "    return \" \".join(filtered_words)\n",
    "\n",
    "\n",
    "all_df['message']=all_df['Message'].map(lambda s:preprocess(s))\n",
    "all_df.head()"
   ]
  },
  {
   "cell_type": "code",
   "execution_count": null,
   "metadata": {
    "execution": {
     "iopub.execute_input": "2023-09-30T14:02:43.994840Z",
     "iopub.status.busy": "2023-09-30T14:02:43.994252Z",
     "iopub.status.idle": "2023-09-30T14:02:44.025628Z",
     "shell.execute_reply": "2023-09-30T14:02:44.024593Z",
     "shell.execute_reply.started": "2023-09-30T14:02:43.994803Z"
    },
    "id": "o3-mrltMWMR2"
   },
   "outputs": [],
   "source": [
    "all_df=all_df.drop(all_df[all_df.message.str.len()<1].index)\n",
    "#dropping rows with empty string"
   ]
  },
  {
   "cell_type": "code",
   "execution_count": null,
   "metadata": {
    "colab": {
     "base_uri": "https://localhost:8080/",
     "height": 206
    },
    "execution": {
     "iopub.execute_input": "2023-09-30T14:02:44.027725Z",
     "iopub.status.busy": "2023-09-30T14:02:44.027324Z",
     "iopub.status.idle": "2023-09-30T14:02:44.039507Z",
     "shell.execute_reply": "2023-09-30T14:02:44.038484Z",
     "shell.execute_reply.started": "2023-09-30T14:02:44.027690Z"
    },
    "id": "M5jUYcrKWMR3",
    "outputId": "26b50432-33d3-45b3-9d46-b6ebb70cf02d"
   },
   "outputs": [],
   "source": [
    "all_df.head()"
   ]
  },
  {
   "cell_type": "code",
   "execution_count": null,
   "metadata": {
    "colab": {
     "base_uri": "https://localhost:8080/"
    },
    "execution": {
     "iopub.execute_input": "2023-09-30T14:02:44.041831Z",
     "iopub.status.busy": "2023-09-30T14:02:44.041165Z",
     "iopub.status.idle": "2023-09-30T14:02:44.065252Z",
     "shell.execute_reply": "2023-09-30T14:02:44.064099Z",
     "shell.execute_reply.started": "2023-09-30T14:02:44.041791Z"
    },
    "id": "u0Nwd6A4WMR5",
    "outputId": "f44c41c2-8964-4bde-c37b-304f0da8d2b5"
   },
   "outputs": [],
   "source": [
    "all_df.info()"
   ]
  },
  {
   "cell_type": "code",
   "execution_count": null,
   "metadata": {
    "colab": {
     "base_uri": "https://localhost:8080/"
    },
    "execution": {
     "iopub.execute_input": "2023-09-30T14:02:44.070653Z",
     "iopub.status.busy": "2023-09-30T14:02:44.070392Z",
     "iopub.status.idle": "2023-09-30T14:02:56.649776Z",
     "shell.execute_reply": "2023-09-30T14:02:56.648765Z",
     "shell.execute_reply.started": "2023-09-30T14:02:44.070631Z"
    },
    "id": "0pO48fVUWMR6",
    "outputId": "1c3d75b6-297b-4511-ab1f-daa4e73819d0"
   },
   "outputs": [],
   "source": [
    "%timeit -n 100 all_df.message.str.len().max()"
   ]
  },
  {
   "cell_type": "code",
   "execution_count": null,
   "metadata": {
    "colab": {
     "base_uri": "https://localhost:8080/",
     "height": 424
    },
    "execution": {
     "iopub.execute_input": "2023-09-30T14:02:56.651887Z",
     "iopub.status.busy": "2023-09-30T14:02:56.651039Z",
     "iopub.status.idle": "2023-09-30T14:02:56.666122Z",
     "shell.execute_reply": "2023-09-30T14:02:56.665080Z",
     "shell.execute_reply.started": "2023-09-30T14:02:56.651851Z"
    },
    "id": "s5QT8QpZWMR6",
    "outputId": "e90a1ec8-2b83-4a83-ccc5-e59352890b1f"
   },
   "outputs": [],
   "source": [
    "all_df.head(100)"
   ]
  },
  {
   "cell_type": "code",
   "execution_count": null,
   "metadata": {
    "execution": {
     "iopub.execute_input": "2023-09-30T14:02:56.668279Z",
     "iopub.status.busy": "2023-09-30T14:02:56.667440Z",
     "iopub.status.idle": "2023-09-30T14:02:56.702391Z",
     "shell.execute_reply": "2023-09-30T14:02:56.701225Z",
     "shell.execute_reply.started": "2023-09-30T14:02:56.668244Z"
    },
    "id": "XMze7-JUWMR7"
   },
   "outputs": [],
   "source": [
    "decode_map = {0: \"NEGATIVE\",1: \"POSITIVE\"}\n",
    "def decode_sentiment(label):\n",
    "    return decode_map[int(label)]"
   ]
  },
  {
   "cell_type": "code",
   "execution_count": null,
   "metadata": {
    "id": "0muRG04jY3bY"
   },
   "outputs": [],
   "source": [
    "all_df['Sentiment'] = pd.to_numeric(all_df['Sentiment'], errors='coerce')"
   ]
  },
  {
   "cell_type": "code",
   "execution_count": null,
   "metadata": {
    "id": "8HE0zbldZA87"
   },
   "outputs": [],
   "source": [
    "all_df = all_df.dropna(subset=['Sentiment'])"
   ]
  },
  {
   "cell_type": "code",
   "execution_count": null,
   "metadata": {
    "colab": {
     "base_uri": "https://localhost:8080/"
    },
    "id": "WIlGkqyGZF6s",
    "outputId": "c1be92e3-3c07-4506-9b2c-fbdff0c6cc54"
   },
   "outputs": [],
   "source": [
    "all_df['Sentiment'] = all_df['Sentiment'].astype(int)"
   ]
  },
  {
   "cell_type": "code",
   "execution_count": null,
   "metadata": {
    "colab": {
     "base_uri": "https://localhost:8080/"
    },
    "execution": {
     "iopub.execute_input": "2023-09-30T14:02:56.704884Z",
     "iopub.status.busy": "2023-09-30T14:02:56.703948Z",
     "iopub.status.idle": "2023-09-30T14:02:56.735645Z",
     "shell.execute_reply": "2023-09-30T14:02:56.734676Z",
     "shell.execute_reply.started": "2023-09-30T14:02:56.704848Z"
    },
    "id": "niprZQyNWMR7",
    "outputId": "190e2694-a5f7-4021-f6b9-9e958699da3e"
   },
   "outputs": [],
   "source": [
    "%%time\n",
    "all_df.sentiment = all_df.Sentiment.apply(lambda x: decode_sentiment(x))"
   ]
  },
  {
   "cell_type": "code",
   "execution_count": null,
   "metadata": {
    "colab": {
     "base_uri": "https://localhost:8080/",
     "height": 531
    },
    "execution": {
     "iopub.execute_input": "2023-09-30T14:02:56.737715Z",
     "iopub.status.busy": "2023-09-30T14:02:56.737120Z",
     "iopub.status.idle": "2023-09-30T14:02:57.068453Z",
     "shell.execute_reply": "2023-09-30T14:02:57.067462Z",
     "shell.execute_reply.started": "2023-09-30T14:02:56.737671Z"
    },
    "id": "ZKq5ngxFWMR7",
    "outputId": "676e04f3-ff7a-4f59-ad1c-63885755c66e"
   },
   "outputs": [],
   "source": [
    "from collections import Counter\n",
    "sentiment_cnt = Counter(all_df.sentiment)\n",
    "\n",
    "plt.figure(figsize=(16,8))\n",
    "plt.bar(sentiment_cnt.keys(), sentiment_cnt.values())\n",
    "plt.title(\"Dataset labels distribuition\")"
   ]
  },
  {
   "cell_type": "code",
   "execution_count": null,
   "metadata": {
    "execution": {
     "iopub.execute_input": "2023-09-30T14:02:57.072193Z",
     "iopub.status.busy": "2023-09-30T14:02:57.071769Z",
     "iopub.status.idle": "2023-09-30T14:02:57.081779Z",
     "shell.execute_reply": "2023-09-30T14:02:57.080592Z",
     "shell.execute_reply.started": "2023-09-30T14:02:57.072154Z"
    },
    "id": "xVDa7WUvWMR8"
   },
   "outputs": [],
   "source": [
    "TRAIN_SIZE = 0.8\n",
    "\n",
    "# # TEXT CLENAING\n",
    "# TEXT_CLEANING_RE = \"@\\S+|https?:\\S+|http?:\\S|[^A-Za-z0-9]+\"\n",
    "\n",
    "# WORD2VEC\n",
    "W2V_SIZE = 300\n",
    "W2V_WINDOW = 7\n",
    "W2V_EPOCH = 32\n",
    "W2V_MIN_COUNT = 10\n",
    "\n",
    "# KERAS\n",
    "SEQUENCE_LENGTH = 300\n",
    "EPOCHS = 8\n",
    "BATCH_SIZE = 1024\n",
    "\n",
    "# SENTIMENT\n",
    "POSITIVE = \"POSITIVE\"\n",
    "NEGATIVE = \"NEGATIVE\"\n",
    "SENTIMENT_THRESHOLDS = (0.5)\n",
    "\n",
    "# EXPORT\n",
    "KERAS_MODEL = \"model.h5\"\n",
    "WORD2VEC_MODEL = \"model.w2v\"\n",
    "TOKENIZER_MODEL = \"tokenizer.pkl\"\n",
    "ENCODER_MODEL = \"encoder.pkl\""
   ]
  },
  {
   "cell_type": "code",
   "execution_count": null,
   "metadata": {
    "colab": {
     "base_uri": "https://localhost:8080/"
    },
    "execution": {
     "iopub.execute_input": "2023-09-30T14:02:57.089384Z",
     "iopub.status.busy": "2023-09-30T14:02:57.086127Z",
     "iopub.status.idle": "2023-09-30T14:02:57.110949Z",
     "shell.execute_reply": "2023-09-30T14:02:57.109748Z",
     "shell.execute_reply.started": "2023-09-30T14:02:57.089345Z"
    },
    "id": "XZTBZY7CWMR8",
    "outputId": "b503f462-5d9f-40a2-90f0-09ab73ee7245"
   },
   "outputs": [],
   "source": [
    "df_train, df_test = train_test_split(all_df, test_size=1-TRAIN_SIZE, random_state=42)\n",
    "print(\"TRAIN size:\", len(df_train))\n",
    "print(\"TEST size:\", len(df_test))"
   ]
  },
  {
   "cell_type": "code",
   "execution_count": null,
   "metadata": {
    "colab": {
     "base_uri": "https://localhost:8080/"
    },
    "execution": {
     "iopub.execute_input": "2023-09-30T14:02:57.113186Z",
     "iopub.status.busy": "2023-09-30T14:02:57.112566Z",
     "iopub.status.idle": "2023-09-30T14:02:57.212292Z",
     "shell.execute_reply": "2023-09-30T14:02:57.211146Z",
     "shell.execute_reply.started": "2023-09-30T14:02:57.113147Z"
    },
    "id": "yQmWERAlWMR8",
    "outputId": "8358a553-5da7-4a6c-9452-681069708d5a"
   },
   "outputs": [],
   "source": [
    "%%time\n",
    "documents = [_text.split() for _text in df_train.message]"
   ]
  },
  {
   "cell_type": "code",
   "execution_count": null,
   "metadata": {
    "execution": {
     "iopub.execute_input": "2023-09-30T14:02:57.218752Z",
     "iopub.status.busy": "2023-09-30T14:02:57.216550Z",
     "iopub.status.idle": "2023-09-30T14:02:57.226219Z",
     "shell.execute_reply": "2023-09-30T14:02:57.225175Z",
     "shell.execute_reply.started": "2023-09-30T14:02:57.218713Z"
    },
    "id": "VgE2YbKZWMR9"
   },
   "outputs": [],
   "source": [
    "w2v_model = gensim.models.word2vec.Word2Vec(vector_size=W2V_SIZE,\n",
    "                                            window=W2V_WINDOW,\n",
    "                                            min_count=W2V_MIN_COUNT,\n",
    "                                            workers=8)"
   ]
  },
  {
   "cell_type": "code",
   "execution_count": null,
   "metadata": {
    "execution": {
     "iopub.execute_input": "2023-09-30T14:02:57.229112Z",
     "iopub.status.busy": "2023-09-30T14:02:57.227652Z",
     "iopub.status.idle": "2023-09-30T14:02:57.533616Z",
     "shell.execute_reply": "2023-09-30T14:02:57.532595Z",
     "shell.execute_reply.started": "2023-09-30T14:02:57.229078Z"
    },
    "id": "u14G7T6nWMR9"
   },
   "outputs": [],
   "source": [
    "w2v_model.build_vocab(documents)"
   ]
  },
  {
   "cell_type": "code",
   "execution_count": null,
   "metadata": {
    "colab": {
     "base_uri": "https://localhost:8080/"
    },
    "execution": {
     "iopub.execute_input": "2023-09-30T14:02:57.540519Z",
     "iopub.status.busy": "2023-09-30T14:02:57.538285Z",
     "iopub.status.idle": "2023-09-30T14:02:57.549967Z",
     "shell.execute_reply": "2023-09-30T14:02:57.548553Z",
     "shell.execute_reply.started": "2023-09-30T14:02:57.540481Z"
    },
    "id": "iVZ_3Fd9WMR9",
    "outputId": "860bbdee-3066-4d2d-881c-ed92868344ae"
   },
   "outputs": [],
   "source": [
    "words = w2v_model.wv.key_to_index\n",
    "vocab_size = len(words)\n",
    "print(\"Vocab size\", vocab_size)"
   ]
  },
  {
   "cell_type": "code",
   "execution_count": null,
   "metadata": {
    "colab": {
     "base_uri": "https://localhost:8080/"
    },
    "execution": {
     "iopub.execute_input": "2023-09-30T14:02:57.554053Z",
     "iopub.status.busy": "2023-09-30T14:02:57.551449Z",
     "iopub.status.idle": "2023-09-30T14:03:12.524362Z",
     "shell.execute_reply": "2023-09-30T14:03:12.523457Z",
     "shell.execute_reply.started": "2023-09-30T14:02:57.554012Z"
    },
    "id": "etW_kYWoWMR-",
    "outputId": "06903f0d-3a9f-4125-e180-d363aa253456"
   },
   "outputs": [],
   "source": [
    "%%time\n",
    "w2v_model.train(documents, total_examples=len(documents), epochs=W2V_EPOCH)"
   ]
  },
  {
   "cell_type": "code",
   "execution_count": null,
   "metadata": {
    "colab": {
     "base_uri": "https://localhost:8080/"
    },
    "execution": {
     "iopub.execute_input": "2023-09-30T14:03:12.544951Z",
     "iopub.status.busy": "2023-09-30T14:03:12.543487Z",
     "iopub.status.idle": "2023-09-30T14:03:13.205395Z",
     "shell.execute_reply": "2023-09-30T14:03:13.204420Z",
     "shell.execute_reply.started": "2023-09-30T14:03:12.544914Z"
    },
    "id": "Agl1zMBaWMR-",
    "outputId": "cbee4fd5-0c54-48d5-b10f-9c577310bf7b"
   },
   "outputs": [],
   "source": [
    "%%time\n",
    "tokenizer = Tokenizer()\n",
    "tokenizer.fit_on_texts(df_train.message)\n",
    "\n",
    "vocab_size = len(tokenizer.word_index) + 1\n",
    "print(\"Total words\", vocab_size)"
   ]
  },
  {
   "cell_type": "code",
   "execution_count": null,
   "metadata": {
    "colab": {
     "base_uri": "https://localhost:8080/"
    },
    "execution": {
     "iopub.execute_input": "2023-09-30T14:03:13.207392Z",
     "iopub.status.busy": "2023-09-30T14:03:13.207025Z",
     "iopub.status.idle": "2023-09-30T14:03:13.931623Z",
     "shell.execute_reply": "2023-09-30T14:03:13.930611Z",
     "shell.execute_reply.started": "2023-09-30T14:03:13.207358Z"
    },
    "id": "aaYOXRlEWMR-",
    "outputId": "5ed12764-5bb7-47c7-a278-69b227fd75da"
   },
   "outputs": [],
   "source": [
    "%%time\n",
    "x_train = pad_sequences(tokenizer.texts_to_sequences(df_train.message), maxlen=SEQUENCE_LENGTH)\n",
    "x_test = pad_sequences(tokenizer.texts_to_sequences(df_test.message), maxlen=SEQUENCE_LENGTH)"
   ]
  },
  {
   "cell_type": "code",
   "execution_count": null,
   "metadata": {
    "colab": {
     "base_uri": "https://localhost:8080/"
    },
    "execution": {
     "iopub.execute_input": "2023-09-30T14:03:13.933937Z",
     "iopub.status.busy": "2023-09-30T14:03:13.933006Z",
     "iopub.status.idle": "2023-09-30T14:03:13.944059Z",
     "shell.execute_reply": "2023-09-30T14:03:13.942941Z",
     "shell.execute_reply.started": "2023-09-30T14:03:13.933900Z"
    },
    "id": "UR8IBX25WMR_",
    "outputId": "6d0563fe-ce96-4165-d87a-c04842623f03"
   },
   "outputs": [],
   "source": [
    "#Label Encoder\n",
    "labels = df_train.Sentiment.unique().tolist()\n",
    "labels"
   ]
  },
  {
   "cell_type": "code",
   "execution_count": null,
   "metadata": {
    "colab": {
     "base_uri": "https://localhost:8080/"
    },
    "execution": {
     "iopub.execute_input": "2023-09-30T14:03:13.945839Z",
     "iopub.status.busy": "2023-09-30T14:03:13.945479Z",
     "iopub.status.idle": "2023-09-30T14:03:14.001609Z",
     "shell.execute_reply": "2023-09-30T14:03:14.000598Z",
     "shell.execute_reply.started": "2023-09-30T14:03:13.945803Z"
    },
    "id": "kwoHjENsWMR_",
    "outputId": "a7397119-5b30-497d-e6c3-44ae12c01ffb"
   },
   "outputs": [],
   "source": [
    "encoder = LabelEncoder()\n",
    "encoder.fit(df_train.Sentiment.tolist())\n",
    "\n",
    "y_train = encoder.transform(df_train.Sentiment.tolist())\n",
    "y_test = encoder.transform(df_test.Sentiment.tolist())\n",
    "\n",
    "y_train = y_train.reshape(-1,1)\n",
    "y_test = y_test.reshape(-1,1)\n",
    "\n",
    "print(\"y_train\",y_train.shape)\n",
    "print(\"y_test\",y_test.shape)"
   ]
  },
  {
   "cell_type": "code",
   "execution_count": null,
   "metadata": {
    "colab": {
     "base_uri": "https://localhost:8080/"
    },
    "execution": {
     "iopub.execute_input": "2023-09-30T14:03:14.003555Z",
     "iopub.status.busy": "2023-09-30T14:03:14.002988Z",
     "iopub.status.idle": "2023-09-30T14:03:14.009983Z",
     "shell.execute_reply": "2023-09-30T14:03:14.008973Z",
     "shell.execute_reply.started": "2023-09-30T14:03:14.003505Z"
    },
    "id": "nzkzrzZIWMR_",
    "outputId": "35aa29c0-0f96-4f33-d8b7-6bef6812eeeb"
   },
   "outputs": [],
   "source": [
    "print(\"x_train\", x_train.shape)\n",
    "print(\"y_train\", y_train.shape)\n",
    "print()\n",
    "print(\"x_test\", x_test.shape)\n",
    "print(\"y_test\", y_test.shape)"
   ]
  },
  {
   "cell_type": "code",
   "execution_count": null,
   "metadata": {
    "colab": {
     "base_uri": "https://localhost:8080/"
    },
    "execution": {
     "iopub.execute_input": "2023-09-30T14:03:14.011920Z",
     "iopub.status.busy": "2023-09-30T14:03:14.011355Z",
     "iopub.status.idle": "2023-09-30T14:03:14.026421Z",
     "shell.execute_reply": "2023-09-30T14:03:14.025405Z",
     "shell.execute_reply.started": "2023-09-30T14:03:14.011887Z"
    },
    "id": "9iPFQOKOWMSA",
    "outputId": "fdb2b81d-484b-4e8c-cac8-6993e36ba365"
   },
   "outputs": [],
   "source": [
    "y_train[:10]"
   ]
  },
  {
   "cell_type": "code",
   "execution_count": null,
   "metadata": {
    "colab": {
     "base_uri": "https://localhost:8080/"
    },
    "execution": {
     "iopub.execute_input": "2023-09-30T14:03:14.028597Z",
     "iopub.status.busy": "2023-09-30T14:03:14.028009Z",
     "iopub.status.idle": "2023-09-30T14:03:14.087944Z",
     "shell.execute_reply": "2023-09-30T14:03:14.086892Z",
     "shell.execute_reply.started": "2023-09-30T14:03:14.028564Z"
    },
    "id": "Lr7j7butWMSA",
    "outputId": "f87229fc-3be1-4fe9-b50a-36d805bf6329"
   },
   "outputs": [],
   "source": [
    "#Embedding Layer\n",
    "embedding_matrix = np.zeros((vocab_size, W2V_SIZE))\n",
    "for word, i in tokenizer.word_index.items():\n",
    "  if word in w2v_model.wv:\n",
    "    embedding_matrix[i] = w2v_model.wv[word]\n",
    "print(embedding_matrix.shape)"
   ]
  },
  {
   "cell_type": "code",
   "execution_count": null,
   "metadata": {
    "execution": {
     "iopub.execute_input": "2023-09-30T14:03:14.089867Z",
     "iopub.status.busy": "2023-09-30T14:03:14.089306Z",
     "iopub.status.idle": "2023-09-30T14:03:14.111357Z",
     "shell.execute_reply": "2023-09-30T14:03:14.110517Z",
     "shell.execute_reply.started": "2023-09-30T14:03:14.089833Z"
    },
    "id": "L5cWBUOyWMSA"
   },
   "outputs": [],
   "source": [
    "embedding_layer = Embedding(vocab_size, W2V_SIZE, weights=[embedding_matrix], input_length=SEQUENCE_LENGTH, trainable=False)"
   ]
  },
  {
   "cell_type": "code",
   "execution_count": null,
   "metadata": {
    "colab": {
     "base_uri": "https://localhost:8080/"
    },
    "execution": {
     "iopub.execute_input": "2023-09-30T14:03:14.116859Z",
     "iopub.status.busy": "2023-09-30T14:03:14.116611Z",
     "iopub.status.idle": "2023-09-30T14:03:17.090345Z",
     "shell.execute_reply": "2023-09-30T14:03:17.089605Z",
     "shell.execute_reply.started": "2023-09-30T14:03:14.116838Z"
    },
    "id": "TTxFhvNkWMSA",
    "outputId": "76796845-32ea-4d7b-c5d6-0e3cc167c028"
   },
   "outputs": [],
   "source": [
    "#Build Model\n",
    "model = Sequential()\n",
    "model.add(embedding_layer)\n",
    "model.add(Dropout(0.5))\n",
    "model.add(LSTM(100, dropout=0.2, recurrent_dropout=0.2))\n",
    "model.add(Dense(1, activation='sigmoid'))\n",
    "\n",
    "model.summary()"
   ]
  },
  {
   "cell_type": "code",
   "execution_count": null,
   "metadata": {
    "execution": {
     "iopub.execute_input": "2023-09-30T14:03:17.091921Z",
     "iopub.status.busy": "2023-09-30T14:03:17.091591Z",
     "iopub.status.idle": "2023-09-30T14:03:17.108435Z",
     "shell.execute_reply": "2023-09-30T14:03:17.106814Z",
     "shell.execute_reply.started": "2023-09-30T14:03:17.091888Z"
    },
    "id": "S54C-VCRWMSB"
   },
   "outputs": [],
   "source": [
    "#compile model\n",
    "\n",
    "model.compile(loss='binary_crossentropy',\n",
    "              optimizer=\"adam\",\n",
    "              metrics=['accuracy'])"
   ]
  },
  {
   "cell_type": "code",
   "execution_count": null,
   "metadata": {
    "execution": {
     "iopub.execute_input": "2023-09-30T14:03:17.111071Z",
     "iopub.status.busy": "2023-09-30T14:03:17.110064Z",
     "iopub.status.idle": "2023-09-30T14:03:17.116188Z",
     "shell.execute_reply": "2023-09-30T14:03:17.115232Z",
     "shell.execute_reply.started": "2023-09-30T14:03:17.111037Z"
    },
    "id": "dungxCWaWMSB"
   },
   "outputs": [],
   "source": [
    "callbacks = [ ReduceLROnPlateau(monitor='val_loss', patience=5, cooldown=0),\n",
    "              EarlyStopping(monitor='val_acc', min_delta=1e-4, patience=5)]"
   ]
  },
  {
   "cell_type": "code",
   "execution_count": null,
   "metadata": {
    "colab": {
     "base_uri": "https://localhost:8080/"
    },
    "execution": {
     "iopub.execute_input": "2023-09-30T14:03:17.118070Z",
     "iopub.status.busy": "2023-09-30T14:03:17.117499Z",
     "iopub.status.idle": "2023-09-30T14:09:41.472281Z",
     "shell.execute_reply": "2023-09-30T14:09:41.471222Z",
     "shell.execute_reply.started": "2023-09-30T14:03:17.118037Z"
    },
    "id": "--FN2YqLWMSB",
    "outputId": "bae2c7b7-7af2-427d-d826-af63ed989dfd"
   },
   "outputs": [],
   "source": [
    "%%time\n",
    "history = model.fit(x_train, y_train,\n",
    "                    batch_size=BATCH_SIZE,\n",
    "                    epochs=EPOCHS,\n",
    "                    validation_split=0.1,\n",
    "                    verbose=1,\n",
    "                    callbacks=callbacks)"
   ]
  },
  {
   "cell_type": "code",
   "execution_count": null,
   "metadata": {
    "colab": {
     "base_uri": "https://localhost:8080/"
    },
    "execution": {
     "iopub.execute_input": "2023-09-30T14:09:41.474378Z",
     "iopub.status.busy": "2023-09-30T14:09:41.474020Z",
     "iopub.status.idle": "2023-09-30T14:09:42.481092Z",
     "shell.execute_reply": "2023-09-30T14:09:42.479998Z",
     "shell.execute_reply.started": "2023-09-30T14:09:41.474341Z"
    },
    "id": "Stw1A4nmWMSC",
    "outputId": "07d01e62-5c79-41db-eaa7-8ad7504d722e"
   },
   "outputs": [],
   "source": [
    "##Evaluate\n",
    "acclstm = model.evaluate(x_test, y_test, batch_size=BATCH_SIZE)\n",
    "print()\n",
    "print(\"ACCURACY:\",acclstm[1])"
   ]
  },
  {
   "cell_type": "code",
   "execution_count": null,
   "metadata": {
    "colab": {
     "base_uri": "https://localhost:8080/"
    },
    "id": "xEoBVAJAptak",
    "outputId": "9650d642-8e51-497d-b52c-96ecc3cafc3a"
   },
   "outputs": [],
   "source": [
    "history_dict = history.history\n",
    "print(history_dict.keys())"
   ]
  },
  {
   "cell_type": "code",
   "execution_count": null,
   "metadata": {
    "colab": {
     "base_uri": "https://localhost:8080/",
     "height": 944
    },
    "execution": {
     "iopub.execute_input": "2023-09-30T14:09:42.491453Z",
     "iopub.status.busy": "2023-09-30T14:09:42.490577Z",
     "iopub.status.idle": "2023-09-30T14:09:42.954194Z",
     "shell.execute_reply": "2023-09-30T14:09:42.953110Z",
     "shell.execute_reply.started": "2023-09-30T14:09:42.491412Z"
    },
    "id": "-NZt0SfeWMSD",
    "outputId": "6356db1b-2f5b-4fa5-89b4-de3d4625aa4c"
   },
   "outputs": [],
   "source": [
    "acc = history.history['accuracy']\n",
    "val_acc = history.history['val_accuracy']\n",
    "loss = history.history['loss']\n",
    "val_loss = history.history['val_loss']\n",
    "\n",
    "epochs = range(len(acc))\n",
    "\n",
    "plt.plot(epochs, acc, 'b', label='Training acc')\n",
    "plt.plot(epochs, val_acc, 'r', label='Validation acc')\n",
    "plt.title('Training and validation accuracy')\n",
    "plt.ylabel('accuracy')\n",
    "plt.xlabel('epoch')\n",
    "plt.legend()\n",
    "\n",
    "plt.figure()\n",
    "\n",
    "plt.plot(epochs, loss, 'b', label='Training loss')\n",
    "plt.plot(epochs, val_loss, 'r', label='Validation loss')\n",
    "plt.title('Training and validation loss')\n",
    "plt.ylabel('loss')\n",
    "plt.xlabel('epoch')\n",
    "plt.legend()\n",
    "\n",
    "plt.show()\n",
    "\n",
    "plt.savefig('training_val_acc.png')"
   ]
  },
  {
   "cell_type": "code",
   "execution_count": null,
   "metadata": {
    "execution": {
     "iopub.execute_input": "2023-09-30T14:09:54.372102Z",
     "iopub.status.busy": "2023-09-30T14:09:54.371256Z",
     "iopub.status.idle": "2023-09-30T14:09:54.381304Z",
     "shell.execute_reply": "2023-09-30T14:09:54.380249Z",
     "shell.execute_reply.started": "2023-09-30T14:09:54.372063Z"
    },
    "id": "lZHpObZPWMSM"
   },
   "outputs": [],
   "source": [
    "def plot_confusion_matrix(cm, classes,title='Confusion matrix',\n",
    "                             cmap=plt.cm.Blues):\n",
    "\n",
    "   # This function prints and plots the confusion matrix.\n",
    "    #Normalization can be applied by setting `normalize=True`.\n",
    "\n",
    "\n",
    "    cm = cm.astype('float') / cm.sum(axis=1)[:, np.newaxis]\n",
    "\n",
    "    plt.imshow(cm, interpolation='nearest', cmap=cmap)\n",
    "    plt.title(title, fontsize=30)\n",
    "    plt.colorbar()\n",
    "    tick_marks = np.arange(len(classes))\n",
    "    plt.xticks(tick_marks, classes, rotation=90, fontsize=22)\n",
    "    plt.yticks(tick_marks, classes, fontsize=22)\n",
    "\n",
    "    fmt = '.2f'\n",
    "    thresh = cm.max() / 2.\n",
    "    for i, j in itertools.product(range(cm.shape[0]), range(cm.shape[1])):\n",
    "        plt.text(j, i, format(cm[i, j], fmt),\n",
    "                 horizontalalignment=\"center\",\n",
    "                 color=\"white\" if cm[i, j] > thresh else \"black\")\n",
    "\n",
    "    plt.ylabel('True label', fontsize=25)\n",
    "    plt.xlabel('Predicted label', fontsize=25)"
   ]
  },
  {
   "cell_type": "code",
   "execution_count": null,
   "metadata": {
    "colab": {
     "base_uri": "https://localhost:8080/"
    },
    "execution": {
     "iopub.execute_input": "2023-09-30T14:12:21.537871Z",
     "iopub.status.busy": "2023-09-30T14:12:21.537318Z",
     "iopub.status.idle": "2023-09-30T14:12:21.549997Z",
     "shell.execute_reply": "2023-09-30T14:12:21.548915Z",
     "shell.execute_reply.started": "2023-09-30T14:12:21.537828Z"
    },
    "id": "zdU4Wx3eWMSN",
    "outputId": "8f94c862-721e-4a78-f558-6ec6c02247aa"
   },
   "outputs": [],
   "source": [
    "X = all_df.message # get all the text in x variable\n",
    "y = all_df.sentiment # get all the sentiments into y variable\n",
    "print(X.shape) #print shape of x\n",
    "print(y.shape) # print shape of y"
   ]
  },
  {
   "cell_type": "code",
   "execution_count": null,
   "metadata": {
    "execution": {
     "iopub.execute_input": "2023-09-30T14:12:47.117613Z",
     "iopub.status.busy": "2023-09-30T14:12:47.117237Z",
     "iopub.status.idle": "2023-09-30T14:12:47.133399Z",
     "shell.execute_reply": "2023-09-30T14:12:47.132471Z",
     "shell.execute_reply.started": "2023-09-30T14:12:47.117581Z"
    },
    "id": "AUiPKdktWMSO"
   },
   "outputs": [],
   "source": [
    "\n",
    "X_train, X_test, y_train, y_test = train_test_split(X, y, test_size = 0.20, random_state=30) # split the data into traing and testing set where ratio is 80:20\n"
   ]
  },
  {
   "cell_type": "code",
   "execution_count": null,
   "metadata": {
    "execution": {
     "iopub.execute_input": "2023-09-30T14:12:56.062159Z",
     "iopub.status.busy": "2023-09-30T14:12:56.061821Z",
     "iopub.status.idle": "2023-09-30T14:12:56.067033Z",
     "shell.execute_reply": "2023-09-30T14:12:56.065995Z",
     "shell.execute_reply.started": "2023-09-30T14:12:56.062130Z"
    },
    "id": "foQwo9P4WMSO"
   },
   "outputs": [],
   "source": [
    "vect = TfidfVectorizer(analyzer = \"word\", ngram_range=(1,3)) # Get Tf-idf object and save it as vect. We can select features from here we just have simply change\n",
    "                                                                                     #the ngram range to change the features also we can remove stop words over here with the help of stop parameter"
   ]
  },
  {
   "cell_type": "code",
   "execution_count": null,
   "metadata": {
    "execution": {
     "iopub.execute_input": "2023-09-30T14:13:54.643498Z",
     "iopub.status.busy": "2023-09-30T14:13:54.642677Z",
     "iopub.status.idle": "2023-09-30T14:13:57.938843Z",
     "shell.execute_reply": "2023-09-30T14:13:57.937863Z",
     "shell.execute_reply.started": "2023-09-30T14:13:54.643459Z"
    },
    "id": "UMZHqJOmWMSO"
   },
   "outputs": [],
   "source": [
    "vect.fit(X_train) # fit or traing data to vect\n",
    "X_train_dtm = vect.transform(X_train) # transform our training data "
   ]
  },
  {
   "cell_type": "code",
   "execution_count": null,
   "metadata": {
    "execution": {
     "iopub.execute_input": "2023-09-30T14:14:01.619345Z",
     "iopub.status.busy": "2023-09-30T14:14:01.618993Z",
     "iopub.status.idle": "2023-09-30T14:14:01.830573Z",
     "shell.execute_reply": "2023-09-30T14:14:01.829501Z",
     "shell.execute_reply.started": "2023-09-30T14:14:01.619314Z"
    },
    "id": "JPs4WjeaWMSO"
   },
   "outputs": [],
   "source": [
    "X_test_dtm = vect.transform(X_test)# transform our testing data "
   ]
  },
  {
   "cell_type": "code",
   "execution_count": null,
   "metadata": {
    "execution": {
     "iopub.execute_input": "2023-09-30T14:14:27.961409Z",
     "iopub.status.busy": "2023-09-30T14:14:27.961050Z",
     "iopub.status.idle": "2023-09-30T14:14:27.966208Z",
     "shell.execute_reply": "2023-09-30T14:14:27.964992Z",
     "shell.execute_reply.started": "2023-09-30T14:14:27.961380Z"
    },
    "id": "EOrLBIvzWMSP"
   },
   "outputs": [],
   "source": [
    "from sklearn.svm import LinearSVC # import SVC model from sklearn.svm\n",
    "svm_clf = LinearSVC(random_state=0) # get object of SVC model with random_state parameter = 0"
   ]
  },
  {
   "cell_type": "code",
   "execution_count": null,
   "metadata": {
    "colab": {
     "base_uri": "https://localhost:8080/",
     "height": 75
    },
    "execution": {
     "iopub.execute_input": "2023-09-30T14:14:39.820677Z",
     "iopub.status.busy": "2023-09-30T14:14:39.820311Z",
     "iopub.status.idle": "2023-09-30T14:14:40.217770Z",
     "shell.execute_reply": "2023-09-30T14:14:40.216798Z",
     "shell.execute_reply.started": "2023-09-30T14:14:39.820647Z"
    },
    "id": "AyPPoeWEWMSP",
    "outputId": "23a35ea8-0a2b-4f51-af5a-b6e40a4e7bcc"
   },
   "outputs": [],
   "source": [
    "svm_clf.fit(X_train_dtm, y_train)# fit our both traing data as well as its sentiments to the SVC model"
   ]
  },
  {
   "cell_type": "code",
   "execution_count": null,
   "metadata": {
    "colab": {
     "base_uri": "https://localhost:8080/"
    },
    "execution": {
     "iopub.execute_input": "2023-09-30T14:14:45.186368Z",
     "iopub.status.busy": "2023-09-30T14:14:45.185488Z",
     "iopub.status.idle": "2023-09-30T14:14:49.233886Z",
     "shell.execute_reply": "2023-09-30T14:14:49.232791Z",
     "shell.execute_reply.started": "2023-09-30T14:14:45.186337Z"
    },
    "id": "POwpppZ0WMSP",
    "outputId": "2a55fc26-c66c-439e-a63f-42864d50f461"
   },
   "outputs": [],
   "source": [
    "from sklearn.model_selection import cross_val_score  # import cross_val_score from sklear.model_selection\n",
    "accuracies = cross_val_score(estimator = svm_clf, X = X_train_dtm, y = y_train, cv = 10)# do K- fold cross validation on our traing data and its sentimenst with 10 fold cross validation\n",
    "accuracies.mean() # measure the mean accuray of 10 fold cross validation"
   ]
  },
  {
   "cell_type": "code",
   "execution_count": null,
   "metadata": {
    "execution": {
     "iopub.execute_input": "2023-09-30T14:14:55.920254Z",
     "iopub.status.busy": "2023-09-30T14:14:55.919727Z",
     "iopub.status.idle": "2023-09-30T14:14:55.929943Z",
     "shell.execute_reply": "2023-09-30T14:14:55.929115Z",
     "shell.execute_reply.started": "2023-09-30T14:14:55.920205Z"
    },
    "id": "KmlE7eItWMSQ"
   },
   "outputs": [],
   "source": [
    "y_pred_svm = svm_clf.predict(X_test_dtm)  # predict the sentiments of testing data "
   ]
  },
  {
   "cell_type": "code",
   "execution_count": null,
   "metadata": {
    "colab": {
     "base_uri": "https://localhost:8080/"
    },
    "execution": {
     "iopub.execute_input": "2023-09-30T14:15:03.178505Z",
     "iopub.status.busy": "2023-09-30T14:15:03.178054Z",
     "iopub.status.idle": "2023-09-30T14:15:03.267937Z",
     "shell.execute_reply": "2023-09-30T14:15:03.266697Z",
     "shell.execute_reply.started": "2023-09-30T14:15:03.178466Z"
    },
    "id": "82_kfNfwWMSQ",
    "outputId": "cbb8c061-7730-4d52-c4a0-2381ac1f2a43"
   },
   "outputs": [],
   "source": [
    "from sklearn import metrics  # import metrics from sklearn\n",
    "metrics.accuracy_score(y_test, y_pred_svm)  # measure the accuracy of our model on the testing data"
   ]
  },
  {
   "cell_type": "code",
   "execution_count": null,
   "metadata": {
    "execution": {
     "iopub.execute_input": "2023-09-30T14:15:34.552919Z",
     "iopub.status.busy": "2023-09-30T14:15:34.552570Z",
     "iopub.status.idle": "2023-09-30T14:15:34.599960Z",
     "shell.execute_reply": "2023-09-30T14:15:34.598989Z",
     "shell.execute_reply.started": "2023-09-30T14:15:34.552893Z"
    },
    "id": "eQMI6T6iWMSR"
   },
   "outputs": [],
   "source": [
    "from sklearn.metrics import confusion_matrix # import confusion matrix from the sklearn.metrics\n",
    "conf_matrix=confusion_matrix(y_test, y_pred_svm)# plot the confusion matrix between our predicted sentiments and the original testing data sentiments"
   ]
  },
  {
   "cell_type": "code",
   "execution_count": null,
   "metadata": {
    "colab": {
     "base_uri": "https://localhost:8080/",
     "height": 574
    },
    "execution": {
     "iopub.execute_input": "2023-09-30T14:15:37.893865Z",
     "iopub.status.busy": "2023-09-30T14:15:37.893501Z",
     "iopub.status.idle": "2023-09-30T14:15:38.222930Z",
     "shell.execute_reply": "2023-09-30T14:15:38.221977Z",
     "shell.execute_reply.started": "2023-09-30T14:15:37.893837Z"
    },
    "id": "V7FreWRGWMSR",
    "outputId": "be11cbc1-c8ba-46a8-8216-ec16849e4e22"
   },
   "outputs": [],
   "source": [
    "%%time\n",
    "plt.figure(figsize=(6,6))\n",
    "plot_confusion_matrix(conf_matrix, classes=df_train.Sentiment.unique(), title=\"Conf_matrix_svm\")\n",
    "plt.show()\n",
    "plt.savefig('confusion_matrix.png')"
   ]
  },
  {
   "cell_type": "code",
   "execution_count": null,
   "metadata": {
    "colab": {
     "base_uri": "https://localhost:8080/"
    },
    "id": "m1jnfr5odQes",
    "outputId": "293036cf-ecf7-4113-f206-26a81a389877"
   },
   "outputs": [],
   "source": [
    "print(classification_report(y_test, y_pred_svm))"
   ]
  }
 ],
 "metadata": {
  "colab": {
   "provenance": []
  },
  "kernelspec": {
   "display_name": "Python 3 (ipykernel)",
   "language": "python",
   "name": "python3"
  },
  "language_info": {
   "codemirror_mode": {
    "name": "ipython",
    "version": 3
   },
   "file_extension": ".py",
   "mimetype": "text/x-python",
   "name": "python",
   "nbconvert_exporter": "python",
   "pygments_lexer": "ipython3",
   "version": "3.11.5"
  }
 },
 "nbformat": 4,
 "nbformat_minor": 1
}
