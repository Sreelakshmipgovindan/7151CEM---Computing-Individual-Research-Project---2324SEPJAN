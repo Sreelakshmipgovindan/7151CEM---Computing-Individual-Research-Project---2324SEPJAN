{
 "cells": [
  {
   "cell_type": "code",
   "execution_count": null,
   "metadata": {
    "colab": {
     "base_uri": "https://localhost:8080/"
    },
    "id": "xbMPNRX6ZBNA",
    "outputId": "c45c63d8-8751-48b7-ebac-306d17a161b5"
   },
   "outputs": [],
   "source": [
    "# Get Data\n",
    "!pip install vaderSentiment\n",
    "!pip install wordcloud\n",
    "import pandas as pd\n",
    "import numpy as np\n",
    "import re\n",
    "import matplotlib.pyplot as plt\n",
    "import nltk\n",
    "import seaborn as sns\n",
    "import matplotlib.dates as mdates\n",
    "from vaderSentiment.vaderSentiment import SentimentIntensityAnalyzer\n",
    "from nltk.stem.porter import *\n",
    "from wordcloud import WordCloud"
   ]
  },
  {
   "cell_type": "code",
   "execution_count": null,
   "metadata": {
    "colab": {
     "base_uri": "https://localhost:8080/",
     "height": 206
    },
    "id": "UZbH2bkqZIo1",
    "outputId": "f3aec7f7-ac35-48be-87dc-dcf15f731b5f"
   },
   "outputs": [],
   "source": [
    "data = pd.read_csv(\"Dataset.csv\", encoding='ISO-8859-2')\n",
    "data.head()"
   ]
  },
  {
   "cell_type": "code",
   "execution_count": null,
   "metadata": {
    "id": "4CrbTShvfUne"
   },
   "outputs": [],
   "source": [
    "# Remove pattern function\n",
    "def remove_pattern(input_txt, pattern):\n",
    "  r = re.findall(pattern, input_txt)\n",
    "  for i in r:\n",
    "    input_txt = re.sub(i, '', input_txt)\n",
    "  return input_txt"
   ]
  },
  {
   "cell_type": "code",
   "execution_count": null,
   "metadata": {
    "colab": {
     "base_uri": "https://localhost:8080/",
     "height": 478
    },
    "id": "Zj6FpiUYShan",
    "outputId": "f56823dc-8c16-44a1-ce86-8c606fcef221"
   },
   "outputs": [],
   "source": [
    "# Remove emoticons \n",
    "data['Message'] = data['Message'].str.replace(\"[^\\w()'+]\", \" \")\n",
    "data"
   ]
  },
  {
   "cell_type": "code",
   "execution_count": null,
   "metadata": {
    "colab": {
     "base_uri": "https://localhost:8080/",
     "height": 261
    },
    "id": "LUQn1dGXSzmj",
    "outputId": "393ffdfa-9b53-42bd-d96f-566f8c369511"
   },
   "outputs": [],
   "source": [
    "# Remove links\n",
    "data['Message'] = data['Message'].str.replace(\"http[s]?://(?:[a-zA-Z]|[0-9]|[$-_@.&+]|[!*,]|(?:%[0-9a-fA-F][0-9a-fA-F]))+\", \" \")\n",
    "data.head()"
   ]
  },
  {
   "cell_type": "code",
   "execution_count": null,
   "metadata": {
    "colab": {
     "base_uri": "https://localhost:8080/",
     "height": 261
    },
    "id": "MBq2AXuVS6IT",
    "outputId": "0d07af9f-31f9-4899-b510-34999b3c4edd"
   },
   "outputs": [],
   "source": [
    "# Remove special characters, numbers, punctuations (except exclamation mark)\n",
    "data['Message'] = data['Message'].str.replace(\"[^a-zA-Z#!]\", \" \")\n",
    "data.head()"
   ]
  },
  {
   "cell_type": "code",
   "execution_count": null,
   "metadata": {
    "colab": {
     "base_uri": "https://localhost:8080/",
     "height": 206
    },
    "id": "g1gCSlx5S-4N",
    "outputId": "83585781-0ea1-481b-a6c7-ef1671fdca56"
   },
   "outputs": [],
   "source": [
    "# Remove short words\n",
    "data['Message'] = data['Message'].apply(lambda x: ' '.join([w for w in x.split() if len(w) > 3]))\n",
    "data.head()\n"
   ]
  },
  {
   "cell_type": "code",
   "execution_count": null,
   "metadata": {
    "colab": {
     "base_uri": "https://localhost:8080/"
    },
    "id": "-gQ24Mp0TDpj",
    "outputId": "13b10190-659c-4f52-9a1a-9dec77d7c499"
   },
   "outputs": [],
   "source": [
    "\n",
    "# Tokenize Data\n",
    "tokenize_meesage = data['Message'].apply(lambda x: x.split())\n",
    "tokenize_meesage.head()"
   ]
  },
  {
   "cell_type": "code",
   "execution_count": null,
   "metadata": {
    "colab": {
     "base_uri": "https://localhost:8080/"
    },
    "id": "nH4JoIRyTLPe",
    "outputId": "ccba4ab6-3bb3-403d-f6ba-e4dde8662a15"
   },
   "outputs": [],
   "source": [
    "# Stemming Data\n",
    "\n",
    "stemmer = PorterStemmer()\n",
    "\n",
    "tokenize_meesage = tokenize_meesage.apply(lambda x: [stemmer.stem(i) for i in x])\n",
    "tokenize_meesage.head()"
   ]
  },
  {
   "cell_type": "code",
   "execution_count": null,
   "metadata": {
    "colab": {
     "base_uri": "https://localhost:8080/",
     "height": 206
    },
    "id": "t_tPhT7wTSAL",
    "outputId": "f8b5c820-d69d-4ddf-e689-4af0687f3440"
   },
   "outputs": [],
   "source": [
    "for i in range(len(tokenize_meesage)):\n",
    "  tokenize_meesage[i] = ' '.join(tokenize_meesage[i])\n",
    "\n",
    "data['Message'] = tokenize_meesage\n",
    "data.head()"
   ]
  },
  {
   "cell_type": "code",
   "execution_count": null,
   "metadata": {
    "colab": {
     "base_uri": "https://localhost:8080/",
     "height": 521
    },
    "id": "r6C4NBPVTY2u",
    "outputId": "34768b45-2730-49fe-c198-ea605f23b079"
   },
   "outputs": [],
   "source": [
    "\n",
    "# WordCloud\n",
    "all_words = ' '.join([text for text in data['Message']])\n",
    "\n",
    "wordcloud = WordCloud(width=800, height=500, random_state=21, background_color='white',  max_font_size=110).generate(all_words)\n",
    "\n",
    "plt.figure(figsize=(10,7))\n",
    "plt.imshow(wordcloud, interpolation=\"bilinear\")\n",
    "plt.axis(\"off\")\n",
    "plt.show()\n"
   ]
  },
  {
   "cell_type": "code",
   "execution_count": null,
   "metadata": {
    "id": "n4J0UysKTeZp"
   },
   "outputs": [],
   "source": [
    "# Hashtags mentions\n",
    "\n",
    "def hashtag_extract(x):\n",
    "  hashtags = []\n",
    "\n",
    "  for i in x:\n",
    "    ht = re.findall(r\"#(\\w+)\", i)\n",
    "    hashtags.append(ht)\n",
    "\n",
    "  return hashtags\n",
    "\n",
    "# Extract hashtags\n",
    "\n",
    "hashtags = hashtag_extract(data['Message'])\n",
    "\n",
    "# Unnesting list\n",
    "\n",
    "hashtags = sum(hashtags, [])"
   ]
  },
  {
   "cell_type": "code",
   "execution_count": null,
   "metadata": {
    "colab": {
     "base_uri": "https://localhost:8080/",
     "height": 206
    },
    "id": "IOEvcXI2TfFm",
    "outputId": "f8a29c88-7acf-4c29-891c-18852b037ef2"
   },
   "outputs": [],
   "source": [
    "# Calculate Polarity\n",
    "\n",
    "analyser = SentimentIntensityAnalyzer()\n",
    "\n",
    "scores = []\n",
    "for sentence in data['Message']:\n",
    "  score = analyser.polarity_scores(sentence)\n",
    "  scores.append(score)\n",
    "\n",
    "scores = pd.DataFrame(scores)\n",
    "\n",
    "data['Compound'] = scores['compound']\n",
    "data['Negative'] = scores['neg']\n",
    "data['Positive'] = scores['pos']\n",
    "data.head()"
   ]
  },
  {
   "cell_type": "code",
   "execution_count": null,
   "metadata": {
    "id": "g6YnqaXGTfIE"
   },
   "outputs": [],
   "source": [
    "# Calculate Mentions\n",
    "\n",
    "def word_extract(x):\n",
    "  words = []\n",
    "\n",
    "  for i in x:\n",
    "    ht = re.findall(r\"(\\w+)\", i)\n",
    "    words.append(ht)\n",
    "\n",
    "  return words\n",
    "\n",
    "# Extract words\n",
    "\n",
    "words = word_extract(data['Message'])\n",
    "\n",
    "# words\n",
    "\n",
    "# Unnesting list\n",
    "\n",
    "words = sum(words, [])"
   ]
  },
  {
   "cell_type": "code",
   "execution_count": null,
   "metadata": {
    "colab": {
     "base_uri": "https://localhost:8080/",
     "height": 487
    },
    "id": "Z4bzSQQATfKM",
    "outputId": "9364db3d-bc25-4844-af63-74b4ee0a53dc"
   },
   "outputs": [],
   "source": [
    "# Frequency Distribution\n",
    "\n",
    "a = nltk.FreqDist(words)\n",
    "\n",
    "b = pd.DataFrame({'Word': list(a.keys()), 'Count': list(a.values())})\n",
    "length = len(b)\n",
    "\n",
    "# Top 10 Most Frequent Words\n",
    "b = b.nlargest(columns=\"Count\", n = 10)\n",
    "plt.figure(figsize=(10,5))\n",
    "axis = sns.barplot(data=b, x='Word', y='Count')\n",
    "axis.set(ylabel='Count')\n",
    "plt.title('Top 10 Most Frequent Words')\n",
    "plt.show()"
   ]
  },
  {
   "cell_type": "code",
   "execution_count": null,
   "metadata": {
    "colab": {
     "base_uri": "https://localhost:8080/",
     "height": 206
    },
    "id": "D6lx6ftdTfMi",
    "outputId": "b8bf3cce-023f-4aa0-fe4e-d542a6613891"
   },
   "outputs": [],
   "source": [
    "# Set type of polarity\n",
    "polarity = []\n",
    "\n",
    "for i in range(len(data)):\n",
    "  if (data['Compound'][i] < 0):\n",
    "    polarity.append(\"Negative\")\n",
    "  elif (data['Compound'][i] > 0):\n",
    "    polarity.append(\"Positive\")\n",
    "\n",
    "polarity = pd.DataFrame(polarity)\n",
    "data['Sentiment'] = polarity\n",
    "data.head()"
   ]
  },
  {
   "cell_type": "code",
   "execution_count": null,
   "metadata": {
    "colab": {
     "base_uri": "https://localhost:8080/"
    },
    "id": "xMBwHaD4kIZx",
    "outputId": "263920c3-49ac-4159-aae2-d9df7a7841c7"
   },
   "outputs": [],
   "source": [
    "import nltk\n",
    "nltk.download('vader_lexicon')"
   ]
  },
  {
   "cell_type": "code",
   "execution_count": null,
   "metadata": {
    "id": "aunpMPP5bI1g"
   },
   "outputs": [],
   "source": [
    "# import SentimentIntensityAnalyzer\n",
    "from nltk.sentiment.vader import SentimentIntensityAnalyzer\n",
    "\n",
    "sid = SentimentIntensityAnalyzer()"
   ]
  },
  {
   "cell_type": "code",
   "execution_count": null,
   "metadata": {
    "colab": {
     "base_uri": "https://localhost:8080/"
    },
    "id": "jwuHaNq5VkUV",
    "outputId": "0bb51c74-03b3-4e89-dcf5-93145341f2ea"
   },
   "outputs": [],
   "source": [
    "# classify the comments\n",
    "summary = {\"positive\":0,\"negative\":0}\n",
    "\n",
    "for x in words:\n",
    "    ss = sid.polarity_scores(x)\n",
    "    if ss[\"compound\"] >= 0.0:\n",
    "        summary[\"positive\"] +=1\n",
    "        postot=summary[\"positive\"]\n",
    "    else:\n",
    "        summary[\"negative\"] +=1\n",
    "        negtot=summary[\"negative\"]\n",
    "\n",
    "summary"
   ]
  },
  {
   "cell_type": "code",
   "execution_count": null,
   "metadata": {
    "colab": {
     "base_uri": "https://localhost:8080/",
     "height": 406
    },
    "id": "BKazda3sZyY5",
    "outputId": "6e3ba13b-fb7c-4def-a1ee-fec256572d5d"
   },
   "outputs": [],
   "source": [
    "import matplotlib.pyplot as plt\n",
    "labels = 'Positive', 'Negative'\n",
    "sizes = [postot, negtot]\n",
    "\n",
    "explode = (0.1, 0)  \n",
    "\n",
    "fig, ax = plt.subplots()\n",
    "ax.pie(sizes, explode=explode, labels=labels, autopct='%1.1f%%',\n",
    "        shadow=True, startangle=90)\n",
    "plt.show()"
   ]
  },
  {
   "cell_type": "code",
   "execution_count": null,
   "metadata": {
    "colab": {
     "background_save": true
    },
    "id": "9I0BUe0R1NwX",
    "outputId": "6ad999c7-a75b-4456-aaaf-a37e775b1ccb"
   },
   "outputs": [],
   "source": [
    "if postot>negtot:\n",
    "  print(\"Congratulations on Your Positive Sentiment Analysis Result!\")\n",
    "  print(\"Hi Dear,\")\n",
    "  print(\"I hope this message finds you well! this is the result of your recent sentiment analysis result is overwhelmingly positive! Your positivity shines through, and it's truly uplifting.\")\n",
    "  print(\"This positive sentiment reflects not only a great attitude but also contributes to creating a positive and supportive environment. Keep up the excellent work, and continue spreading those good vibes.\")\n",
    "  print(\"Your positivity is contagious and makes a positive impact on those around you. Once again, congratulations on the positive sentiment analysis. Wishing you continued success and positivity in all that you do!\")\n",
    "else:\n",
    "  print(\"Hi Dear,\")\n",
    "  print(\"I hope this message finds you well, though I understand that your recent sentiment analysis result suggests a negative sentiment. I want you to know that we here for you, and your feelings are valid.\")\n",
    "  print(\"Life can present challenges, and it's okay to seek support. Considering the negative sentiment, I would like to gently suggest the idea of speaking with a therapist. Professional support can offer a safe and confidential space to explore your thoughts and feelings.\")\n",
    "  print(\"Therapists are trained to provide guidance and support for various life challenges, and reaching out to one doesn't mean you're alone—it means you're taking a positive step toward your well-being. \")\n",
    "  print(\"Remember, taking care of your mental health is an essential part of self-care. You don't have to face difficulties alone, and seeking help is a sign of strength.\")\n",
    "  print(\"Take care,\")"
   ]
  },
  {
   "cell_type": "code",
   "execution_count": null,
   "metadata": {},
   "outputs": [],
   "source": []
  }
 ],
 "metadata": {
  "colab": {
   "provenance": [],
   "toc_visible": true
  },
  "kernelspec": {
   "display_name": "Python 3 (ipykernel)",
   "language": "python",
   "name": "python3"
  },
  "language_info": {
   "codemirror_mode": {
    "name": "ipython",
    "version": 3
   },
   "file_extension": ".py",
   "mimetype": "text/x-python",
   "name": "python",
   "nbconvert_exporter": "python",
   "pygments_lexer": "ipython3",
   "version": "3.11.5"
  }
 },
 "nbformat": 4,
 "nbformat_minor": 1
}
